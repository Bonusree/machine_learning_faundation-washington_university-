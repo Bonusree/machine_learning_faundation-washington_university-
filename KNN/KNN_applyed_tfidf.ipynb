{
 "cells": [
  {
   "cell_type": "code",
   "execution_count": 3,
   "id": "419073a4-2285-432c-b493-84ac87f59f72",
   "metadata": {},
   "outputs": [],
   "source": [
    "import pandas as pd"
   ]
  },
  {
   "cell_type": "code",
   "execution_count": 5,
   "id": "4ba4ac1f-6be0-40cd-b67a-cb8362f7951a",
   "metadata": {},
   "outputs": [],
   "source": [
    "import numpy as np"
   ]
  },
  {
   "cell_type": "code",
   "execution_count": 7,
   "id": "26adabe9-05e3-4225-9bc2-8d886507b260",
   "metadata": {},
   "outputs": [],
   "source": [
    "path='C:/Users/user/machinelearningfaundation(washingtonuniversity)/people_wiki.csv'\n",
    "df=pd.read_csv(path)"
   ]
  },
  {
   "cell_type": "code",
   "execution_count": 9,
   "id": "40651c28-7cbf-4cac-b280-8374098ca9f5",
   "metadata": {},
   "outputs": [
    {
     "data": {
      "text/html": [
       "<div>\n",
       "<style scoped>\n",
       "    .dataframe tbody tr th:only-of-type {\n",
       "        vertical-align: middle;\n",
       "    }\n",
       "\n",
       "    .dataframe tbody tr th {\n",
       "        vertical-align: top;\n",
       "    }\n",
       "\n",
       "    .dataframe thead th {\n",
       "        text-align: right;\n",
       "    }\n",
       "</style>\n",
       "<table border=\"1\" class=\"dataframe\">\n",
       "  <thead>\n",
       "    <tr style=\"text-align: right;\">\n",
       "      <th></th>\n",
       "      <th>URI</th>\n",
       "      <th>name</th>\n",
       "      <th>text</th>\n",
       "    </tr>\n",
       "  </thead>\n",
       "  <tbody>\n",
       "    <tr>\n",
       "      <th>0</th>\n",
       "      <td>&lt;http://dbpedia.org/resource/Digby_Morrell&gt;</td>\n",
       "      <td>Digby Morrell</td>\n",
       "      <td>digby morrell born 10 october 1979 is a former...</td>\n",
       "    </tr>\n",
       "    <tr>\n",
       "      <th>1</th>\n",
       "      <td>&lt;http://dbpedia.org/resource/Alfred_J._Lewy&gt;</td>\n",
       "      <td>Alfred J. Lewy</td>\n",
       "      <td>alfred j lewy aka sandy lewy graduated from un...</td>\n",
       "    </tr>\n",
       "    <tr>\n",
       "      <th>2</th>\n",
       "      <td>&lt;http://dbpedia.org/resource/Harpdog_Brown&gt;</td>\n",
       "      <td>Harpdog Brown</td>\n",
       "      <td>harpdog brown is a singer and harmonica player...</td>\n",
       "    </tr>\n",
       "    <tr>\n",
       "      <th>3</th>\n",
       "      <td>&lt;http://dbpedia.org/resource/Franz_Rottensteiner&gt;</td>\n",
       "      <td>Franz Rottensteiner</td>\n",
       "      <td>franz rottensteiner born in waidmannsfeld lowe...</td>\n",
       "    </tr>\n",
       "    <tr>\n",
       "      <th>4</th>\n",
       "      <td>&lt;http://dbpedia.org/resource/G-Enka&gt;</td>\n",
       "      <td>G-Enka</td>\n",
       "      <td>henry krvits born 30 december 1974 in tallinn ...</td>\n",
       "    </tr>\n",
       "  </tbody>\n",
       "</table>\n",
       "</div>"
      ],
      "text/plain": [
       "                                                 URI                 name  \\\n",
       "0        <http://dbpedia.org/resource/Digby_Morrell>        Digby Morrell   \n",
       "1       <http://dbpedia.org/resource/Alfred_J._Lewy>       Alfred J. Lewy   \n",
       "2        <http://dbpedia.org/resource/Harpdog_Brown>        Harpdog Brown   \n",
       "3  <http://dbpedia.org/resource/Franz_Rottensteiner>  Franz Rottensteiner   \n",
       "4               <http://dbpedia.org/resource/G-Enka>               G-Enka   \n",
       "\n",
       "                                                text  \n",
       "0  digby morrell born 10 october 1979 is a former...  \n",
       "1  alfred j lewy aka sandy lewy graduated from un...  \n",
       "2  harpdog brown is a singer and harmonica player...  \n",
       "3  franz rottensteiner born in waidmannsfeld lowe...  \n",
       "4  henry krvits born 30 december 1974 in tallinn ...  "
      ]
     },
     "execution_count": 9,
     "metadata": {},
     "output_type": "execute_result"
    }
   ],
   "source": [
    "df=pd.DataFrame(df)\n",
    "df.head()"
   ]
  },
  {
   "cell_type": "code",
   "execution_count": 11,
   "id": "10a03699-abeb-4873-b925-1f549c796d62",
   "metadata": {},
   "outputs": [
    {
     "data": {
      "text/plain": [
       "(59071, 3)"
      ]
     },
     "execution_count": 11,
     "metadata": {},
     "output_type": "execute_result"
    }
   ],
   "source": [
    "df.shape"
   ]
  },
  {
   "cell_type": "code",
   "execution_count": 19,
   "id": "684a0c8b-0d37-46dc-82c3-43f7093a95f9",
   "metadata": {},
   "outputs": [],
   "source": [
    "##Explore dataset and checkout the text it contains"
   ]
  },
  {
   "cell_type": "code",
   "execution_count": 21,
   "id": "c58f4b72-638c-4546-a33a-25ed1b302718",
   "metadata": {},
   "outputs": [],
   "source": [
    "obama=df[df['name']=='Barack Obama']"
   ]
  },
  {
   "cell_type": "code",
   "execution_count": 23,
   "id": "0c5caa29-78a7-40ce-8cf9-477e4b826559",
   "metadata": {},
   "outputs": [
    {
     "data": {
      "text/html": [
       "<div>\n",
       "<style scoped>\n",
       "    .dataframe tbody tr th:only-of-type {\n",
       "        vertical-align: middle;\n",
       "    }\n",
       "\n",
       "    .dataframe tbody tr th {\n",
       "        vertical-align: top;\n",
       "    }\n",
       "\n",
       "    .dataframe thead th {\n",
       "        text-align: right;\n",
       "    }\n",
       "</style>\n",
       "<table border=\"1\" class=\"dataframe\">\n",
       "  <thead>\n",
       "    <tr style=\"text-align: right;\">\n",
       "      <th></th>\n",
       "      <th>URI</th>\n",
       "      <th>name</th>\n",
       "      <th>text</th>\n",
       "    </tr>\n",
       "  </thead>\n",
       "  <tbody>\n",
       "    <tr>\n",
       "      <th>35817</th>\n",
       "      <td>&lt;http://dbpedia.org/resource/Barack_Obama&gt;</td>\n",
       "      <td>Barack Obama</td>\n",
       "      <td>barack hussein obama ii brk husen bm born augu...</td>\n",
       "    </tr>\n",
       "  </tbody>\n",
       "</table>\n",
       "</div>"
      ],
      "text/plain": [
       "                                              URI          name  \\\n",
       "35817  <http://dbpedia.org/resource/Barack_Obama>  Barack Obama   \n",
       "\n",
       "                                                    text  \n",
       "35817  barack hussein obama ii brk husen bm born augu...  "
      ]
     },
     "execution_count": 23,
     "metadata": {},
     "output_type": "execute_result"
    }
   ],
   "source": [
    "obama"
   ]
  },
  {
   "cell_type": "code",
   "execution_count": 25,
   "id": "b65ac820-26cb-4c8f-9f84-2131c31ac0c9",
   "metadata": {},
   "outputs": [],
   "source": [
    "##word count function"
   ]
  },
  {
   "cell_type": "code",
   "execution_count": 25,
   "id": "2d8b9b45-23e0-4242-b513-5a9c9b23abd5",
   "metadata": {},
   "outputs": [],
   "source": [
    "from collections import Counter\n",
    "def word_count(text):\n",
    "    if isinstance(text, str):  # Check if the value is a string\n",
    "        words = text.split()\n",
    "        return dict(Counter(words))\n",
    "    else:\n",
    "        return {} "
   ]
  },
  {
   "cell_type": "code",
   "execution_count": 27,
   "id": "7025807b-5c62-46c1-b19a-57c4e8079ca7",
   "metadata": {},
   "outputs": [
    {
     "name": "stderr",
     "output_type": "stream",
     "text": [
      "C:\\Users\\user\\AppData\\Local\\Temp\\ipykernel_2104\\2144078428.py:1: SettingWithCopyWarning: \n",
      "A value is trying to be set on a copy of a slice from a DataFrame.\n",
      "Try using .loc[row_indexer,col_indexer] = value instead\n",
      "\n",
      "See the caveats in the documentation: https://pandas.pydata.org/pandas-docs/stable/user_guide/indexing.html#returning-a-view-versus-a-copy\n",
      "  obama['word_count']=obama['text'].apply(word_count)\n"
     ]
    }
   ],
   "source": [
    "obama['word_count']=obama['text'].apply(word_count)"
   ]
  },
  {
   "cell_type": "code",
   "execution_count": 29,
   "id": "1fc0f50e-af54-47c0-87ea-086e5ed81855",
   "metadata": {},
   "outputs": [
    {
     "data": {
      "text/html": [
       "<div>\n",
       "<style scoped>\n",
       "    .dataframe tbody tr th:only-of-type {\n",
       "        vertical-align: middle;\n",
       "    }\n",
       "\n",
       "    .dataframe tbody tr th {\n",
       "        vertical-align: top;\n",
       "    }\n",
       "\n",
       "    .dataframe thead th {\n",
       "        text-align: right;\n",
       "    }\n",
       "</style>\n",
       "<table border=\"1\" class=\"dataframe\">\n",
       "  <thead>\n",
       "    <tr style=\"text-align: right;\">\n",
       "      <th></th>\n",
       "      <th>URI</th>\n",
       "      <th>name</th>\n",
       "      <th>text</th>\n",
       "      <th>word_count</th>\n",
       "    </tr>\n",
       "  </thead>\n",
       "  <tbody>\n",
       "    <tr>\n",
       "      <th>35817</th>\n",
       "      <td>&lt;http://dbpedia.org/resource/Barack_Obama&gt;</td>\n",
       "      <td>Barack Obama</td>\n",
       "      <td>barack hussein obama ii brk husen bm born augu...</td>\n",
       "      <td>{'barack': 1, 'hussein': 1, 'obama': 9, 'ii': ...</td>\n",
       "    </tr>\n",
       "  </tbody>\n",
       "</table>\n",
       "</div>"
      ],
      "text/plain": [
       "                                              URI          name  \\\n",
       "35817  <http://dbpedia.org/resource/Barack_Obama>  Barack Obama   \n",
       "\n",
       "                                                    text  \\\n",
       "35817  barack hussein obama ii brk husen bm born augu...   \n",
       "\n",
       "                                              word_count  \n",
       "35817  {'barack': 1, 'hussein': 1, 'obama': 9, 'ii': ...  "
      ]
     },
     "execution_count": 29,
     "metadata": {},
     "output_type": "execute_result"
    }
   ],
   "source": [
    "obama"
   ]
  },
  {
   "cell_type": "code",
   "execution_count": 31,
   "id": "08f7bc88-22df-42de-86c4-0e89f869ddb3",
   "metadata": {},
   "outputs": [
    {
     "data": {
      "text/html": [
       "<div>\n",
       "<style scoped>\n",
       "    .dataframe tbody tr th:only-of-type {\n",
       "        vertical-align: middle;\n",
       "    }\n",
       "\n",
       "    .dataframe tbody tr th {\n",
       "        vertical-align: top;\n",
       "    }\n",
       "\n",
       "    .dataframe thead th {\n",
       "        text-align: right;\n",
       "    }\n",
       "</style>\n",
       "<table border=\"1\" class=\"dataframe\">\n",
       "  <thead>\n",
       "    <tr style=\"text-align: right;\">\n",
       "      <th></th>\n",
       "      <th>URI</th>\n",
       "      <th>name</th>\n",
       "      <th>text</th>\n",
       "    </tr>\n",
       "  </thead>\n",
       "  <tbody>\n",
       "    <tr>\n",
       "      <th>1</th>\n",
       "      <td>&lt;http://dbpedia.org/resource/Alfred_J._Lewy&gt;</td>\n",
       "      <td>Alfred J. Lewy</td>\n",
       "      <td>alfred j lewy aka sandy lewy graduated from un...</td>\n",
       "    </tr>\n",
       "  </tbody>\n",
       "</table>\n",
       "</div>"
      ],
      "text/plain": [
       "                                            URI            name  \\\n",
       "1  <http://dbpedia.org/resource/Alfred_J._Lewy>  Alfred J. Lewy   \n",
       "\n",
       "                                                text  \n",
       "1  alfred j lewy aka sandy lewy graduated from un...  "
      ]
     },
     "execution_count": 31,
     "metadata": {},
     "output_type": "execute_result"
    }
   ],
   "source": [
    "Alfred=df[df['name']=='Alfred J. Lewy']\n",
    "Alfred"
   ]
  },
  {
   "cell_type": "code",
   "execution_count": 33,
   "id": "28494350-e5a2-431f-8769-320c627e7fac",
   "metadata": {},
   "outputs": [],
   "source": [
    "obama_word_count = obama['word_count'].apply(pd.Series).stack().reset_index()"
   ]
  },
  {
   "cell_type": "code",
   "execution_count": 35,
   "id": "960adc08-419c-433f-a651-572370f057f5",
   "metadata": {},
   "outputs": [
    {
     "data": {
      "text/html": [
       "<div>\n",
       "<style scoped>\n",
       "    .dataframe tbody tr th:only-of-type {\n",
       "        vertical-align: middle;\n",
       "    }\n",
       "\n",
       "    .dataframe tbody tr th {\n",
       "        vertical-align: top;\n",
       "    }\n",
       "\n",
       "    .dataframe thead th {\n",
       "        text-align: right;\n",
       "    }\n",
       "</style>\n",
       "<table border=\"1\" class=\"dataframe\">\n",
       "  <thead>\n",
       "    <tr style=\"text-align: right;\">\n",
       "      <th></th>\n",
       "      <th>level_0</th>\n",
       "      <th>level_1</th>\n",
       "      <th>0</th>\n",
       "    </tr>\n",
       "  </thead>\n",
       "  <tbody>\n",
       "    <tr>\n",
       "      <th>0</th>\n",
       "      <td>35817</td>\n",
       "      <td>barack</td>\n",
       "      <td>1</td>\n",
       "    </tr>\n",
       "    <tr>\n",
       "      <th>1</th>\n",
       "      <td>35817</td>\n",
       "      <td>hussein</td>\n",
       "      <td>1</td>\n",
       "    </tr>\n",
       "    <tr>\n",
       "      <th>2</th>\n",
       "      <td>35817</td>\n",
       "      <td>obama</td>\n",
       "      <td>9</td>\n",
       "    </tr>\n",
       "    <tr>\n",
       "      <th>3</th>\n",
       "      <td>35817</td>\n",
       "      <td>ii</td>\n",
       "      <td>1</td>\n",
       "    </tr>\n",
       "    <tr>\n",
       "      <th>4</th>\n",
       "      <td>35817</td>\n",
       "      <td>brk</td>\n",
       "      <td>1</td>\n",
       "    </tr>\n",
       "    <tr>\n",
       "      <th>...</th>\n",
       "      <td>...</td>\n",
       "      <td>...</td>\n",
       "      <td>...</td>\n",
       "    </tr>\n",
       "    <tr>\n",
       "      <th>268</th>\n",
       "      <td>35817</td>\n",
       "      <td>operations</td>\n",
       "      <td>1</td>\n",
       "    </tr>\n",
       "    <tr>\n",
       "      <th>269</th>\n",
       "      <td>35817</td>\n",
       "      <td>sought</td>\n",
       "      <td>1</td>\n",
       "    </tr>\n",
       "    <tr>\n",
       "      <th>270</th>\n",
       "      <td>35817</td>\n",
       "      <td>normalize</td>\n",
       "      <td>1</td>\n",
       "    </tr>\n",
       "    <tr>\n",
       "      <th>271</th>\n",
       "      <td>35817</td>\n",
       "      <td>relations</td>\n",
       "      <td>1</td>\n",
       "    </tr>\n",
       "    <tr>\n",
       "      <th>272</th>\n",
       "      <td>35817</td>\n",
       "      <td>cuba</td>\n",
       "      <td>1</td>\n",
       "    </tr>\n",
       "  </tbody>\n",
       "</table>\n",
       "<p>273 rows × 3 columns</p>\n",
       "</div>"
      ],
      "text/plain": [
       "     level_0     level_1  0\n",
       "0      35817      barack  1\n",
       "1      35817     hussein  1\n",
       "2      35817       obama  9\n",
       "3      35817          ii  1\n",
       "4      35817         brk  1\n",
       "..       ...         ... ..\n",
       "268    35817  operations  1\n",
       "269    35817      sought  1\n",
       "270    35817   normalize  1\n",
       "271    35817   relations  1\n",
       "272    35817        cuba  1\n",
       "\n",
       "[273 rows x 3 columns]"
      ]
     },
     "execution_count": 35,
     "metadata": {},
     "output_type": "execute_result"
    }
   ],
   "source": [
    "obama_word_count"
   ]
  },
  {
   "cell_type": "code",
   "execution_count": 37,
   "id": "1869cb63-51fa-47a8-ab77-a112d999bd5e",
   "metadata": {},
   "outputs": [],
   "source": [
    "obama_word_count.columns = ['index', 'word', 'count']\n",
    "\n",
    "# Drop unnecessary index column if needed\n",
    "obama_word_count = obama_word_count[['word', 'count']]"
   ]
  },
  {
   "cell_type": "code",
   "execution_count": 39,
   "id": "64e0f266-13a5-4c70-912e-dfcd1be1d1c7",
   "metadata": {},
   "outputs": [],
   "source": [
    "obama_word_count_sorted = obama_word_count.sort_values(by='count', ascending=False)"
   ]
  },
  {
   "cell_type": "code",
   "execution_count": 43,
   "id": "8930b749-d181-4c6f-98a3-4abc93392d4b",
   "metadata": {},
   "outputs": [
    {
     "data": {
      "text/html": [
       "<div>\n",
       "<style scoped>\n",
       "    .dataframe tbody tr th:only-of-type {\n",
       "        vertical-align: middle;\n",
       "    }\n",
       "\n",
       "    .dataframe tbody tr th {\n",
       "        vertical-align: top;\n",
       "    }\n",
       "\n",
       "    .dataframe thead th {\n",
       "        text-align: right;\n",
       "    }\n",
       "</style>\n",
       "<table border=\"1\" class=\"dataframe\">\n",
       "  <thead>\n",
       "    <tr style=\"text-align: right;\">\n",
       "      <th></th>\n",
       "      <th>word</th>\n",
       "      <th>count</th>\n",
       "    </tr>\n",
       "  </thead>\n",
       "  <tbody>\n",
       "    <tr>\n",
       "      <th>12</th>\n",
       "      <td>the</td>\n",
       "      <td>40</td>\n",
       "    </tr>\n",
       "    <tr>\n",
       "      <th>26</th>\n",
       "      <td>in</td>\n",
       "      <td>30</td>\n",
       "    </tr>\n",
       "    <tr>\n",
       "      <th>14</th>\n",
       "      <td>and</td>\n",
       "      <td>21</td>\n",
       "    </tr>\n",
       "    <tr>\n",
       "      <th>17</th>\n",
       "      <td>of</td>\n",
       "      <td>18</td>\n",
       "    </tr>\n",
       "    <tr>\n",
       "      <th>23</th>\n",
       "      <td>to</td>\n",
       "      <td>14</td>\n",
       "    </tr>\n",
       "    <tr>\n",
       "      <th>47</th>\n",
       "      <td>his</td>\n",
       "      <td>11</td>\n",
       "    </tr>\n",
       "    <tr>\n",
       "      <th>2</th>\n",
       "      <td>obama</td>\n",
       "      <td>9</td>\n",
       "    </tr>\n",
       "    <tr>\n",
       "      <th>139</th>\n",
       "      <td>act</td>\n",
       "      <td>8</td>\n",
       "    </tr>\n",
       "    <tr>\n",
       "      <th>37</th>\n",
       "      <td>he</td>\n",
       "      <td>7</td>\n",
       "    </tr>\n",
       "    <tr>\n",
       "      <th>29</th>\n",
       "      <td>a</td>\n",
       "      <td>7</td>\n",
       "    </tr>\n",
       "  </tbody>\n",
       "</table>\n",
       "</div>"
      ],
      "text/plain": [
       "      word  count\n",
       "12     the     40\n",
       "26      in     30\n",
       "14     and     21\n",
       "17      of     18\n",
       "23      to     14\n",
       "47     his     11\n",
       "2    obama      9\n",
       "139    act      8\n",
       "37      he      7\n",
       "29       a      7"
      ]
     },
     "execution_count": 43,
     "metadata": {},
     "output_type": "execute_result"
    }
   ],
   "source": [
    "obama_word_count_sorted.head(10)"
   ]
  },
  {
   "cell_type": "code",
   "execution_count": 41,
   "id": "fbccf2af-65db-4978-b97d-38c5ccff7cf6",
   "metadata": {},
   "outputs": [
    {
     "name": "stdout",
     "output_type": "stream",
     "text": [
      "(59071, 548429)\n"
     ]
    }
   ],
   "source": [
    "from sklearn.feature_extraction.text import TfidfVectorizer\n",
    "import pandas as pd\n",
    "\n",
    "# Initialize the TfidfVectorizer with limited features\n",
    "vectorizer = TfidfVectorizer()\n",
    "\n",
    "# Apply TF-IDF to the 'text' column\n",
    "tfidf_sparse_matrix = vectorizer.fit_transform(df['text'])\n",
    "\n",
    "# Keep it as sparse matrix (do not convert to dense)\n",
    "print(tfidf_sparse_matrix.shape)  # Output: (59071, 10000)\n",
    "\n"
   ]
  },
  {
   "cell_type": "code",
   "execution_count": 53,
   "id": "7aef894f-0fa0-49cb-9c5f-5bc3189153e5",
   "metadata": {},
   "outputs": [
    {
     "name": "stderr",
     "output_type": "stream",
     "text": [
      "IOPub data rate exceeded.\n",
      "The Jupyter server will temporarily stop sending output\n",
      "to the client in order to avoid crashing it.\n",
      "To change this limit, set the config variable\n",
      "`--ServerApp.iopub_data_rate_limit`.\n",
      "\n",
      "Current values:\n",
      "ServerApp.iopub_data_rate_limit=1000000.0 (bytes/sec)\n",
      "ServerApp.rate_limit_window=3.0 (secs)\n",
      "\n"
     ]
    }
   ],
   "source": [
    "v = TfidfVectorizer()\n",
    "t_output=v.fit_transform(df['text'])\n",
    "# Get the vocabulary\n"
   ]
  },
  {
   "cell_type": "code",
   "execution_count": 55,
   "id": "fb53a73e-f6e6-40cc-a2b5-2745e6cd43a0",
   "metadata": {},
   "outputs": [
    {
     "name": "stdout",
     "output_type": "stream",
     "text": [
      "digby: 160652\n",
      "morrell: 336162\n",
      "born: 96612\n",
      "10: 704\n",
      "october: 359577\n",
      "1979: 11143\n",
      "is: 259893\n",
      "former: 203171\n",
      "australian: 72887\n",
      "rules: 427313\n"
     ]
    }
   ],
   "source": [
    "vocab = v.vocabulary_\n",
    "\n",
    "# Print the first 10 items in the vocabulary\n",
    "for word, index in list(vocab.items())[:10]:\n",
    "    print(f\"{word}: {index}\")"
   ]
  },
  {
   "cell_type": "code",
   "execution_count": 73,
   "id": "4c42d741-49b3-45cb-9ae3-a216a497b2aa",
   "metadata": {},
   "outputs": [],
   "source": [
    "feature_names = v.get_feature_names_out()\n",
    "\n",
    "# Create a dictionary of TF-IDF values for each row\n",
    "tfidf_dicts = []\n",
    "for row in t_output:\n",
    "    tfidf_dict = {feature_names[col]: row[0, col] for col in row.nonzero()[1]}\n",
    "    tfidf_dicts.append(tfidf_dict)\n",
    "\n",
    "# Add the dictionaries as a new column to the DataFrame\n",
    "df['tfidf'] = tfidf_dicts\n"
   ]
  },
  {
   "cell_type": "code",
   "execution_count": 75,
   "id": "cecb22b8-130f-46ca-808b-78a77842864b",
   "metadata": {},
   "outputs": [
    {
     "data": {
      "text/html": [
       "<div>\n",
       "<style scoped>\n",
       "    .dataframe tbody tr th:only-of-type {\n",
       "        vertical-align: middle;\n",
       "    }\n",
       "\n",
       "    .dataframe tbody tr th {\n",
       "        vertical-align: top;\n",
       "    }\n",
       "\n",
       "    .dataframe thead th {\n",
       "        text-align: right;\n",
       "    }\n",
       "</style>\n",
       "<table border=\"1\" class=\"dataframe\">\n",
       "  <thead>\n",
       "    <tr style=\"text-align: right;\">\n",
       "      <th></th>\n",
       "      <th>URI</th>\n",
       "      <th>name</th>\n",
       "      <th>text</th>\n",
       "      <th>tfidf</th>\n",
       "    </tr>\n",
       "  </thead>\n",
       "  <tbody>\n",
       "    <tr>\n",
       "      <th>0</th>\n",
       "      <td>&lt;http://dbpedia.org/resource/Digby_Morrell&gt;</td>\n",
       "      <td>Digby Morrell</td>\n",
       "      <td>digby morrell born 10 october 1979 is a former...</td>\n",
       "      <td>{'melbourne': 0.04943650649482413, 'college': ...</td>\n",
       "    </tr>\n",
       "    <tr>\n",
       "      <th>1</th>\n",
       "      <td>&lt;http://dbpedia.org/resource/Alfred_J._Lewy&gt;</td>\n",
       "      <td>Alfred J. Lewy</td>\n",
       "      <td>alfred j lewy aka sandy lewy graduated from un...</td>\n",
       "      <td>{'every': 0.03831773682944378, 'capsule': 0.07...</td>\n",
       "    </tr>\n",
       "    <tr>\n",
       "      <th>2</th>\n",
       "      <td>&lt;http://dbpedia.org/resource/Harpdog_Brown&gt;</td>\n",
       "      <td>Harpdog Brown</td>\n",
       "      <td>harpdog brown is a singer and harmonica player...</td>\n",
       "      <td>{'society': 0.03991955990922275, 'hamilton': 0...</td>\n",
       "    </tr>\n",
       "    <tr>\n",
       "      <th>3</th>\n",
       "      <td>&lt;http://dbpedia.org/resource/Franz_Rottensteiner&gt;</td>\n",
       "      <td>Franz Rottensteiner</td>\n",
       "      <td>franz rottensteiner born in waidmannsfeld lowe...</td>\n",
       "      <td>{'kurdlawitzpreis': 0.08928312306619517, 'spec...</td>\n",
       "    </tr>\n",
       "    <tr>\n",
       "      <th>4</th>\n",
       "      <td>&lt;http://dbpedia.org/resource/G-Enka&gt;</td>\n",
       "      <td>G-Enka</td>\n",
       "      <td>henry krvits born 30 december 1974 in tallinn ...</td>\n",
       "      <td>{'curtis': 0.052582727709648204, 'promo': 0.06...</td>\n",
       "    </tr>\n",
       "  </tbody>\n",
       "</table>\n",
       "</div>"
      ],
      "text/plain": [
       "                                                 URI                 name  \\\n",
       "0        <http://dbpedia.org/resource/Digby_Morrell>        Digby Morrell   \n",
       "1       <http://dbpedia.org/resource/Alfred_J._Lewy>       Alfred J. Lewy   \n",
       "2        <http://dbpedia.org/resource/Harpdog_Brown>        Harpdog Brown   \n",
       "3  <http://dbpedia.org/resource/Franz_Rottensteiner>  Franz Rottensteiner   \n",
       "4               <http://dbpedia.org/resource/G-Enka>               G-Enka   \n",
       "\n",
       "                                                text  \\\n",
       "0  digby morrell born 10 october 1979 is a former...   \n",
       "1  alfred j lewy aka sandy lewy graduated from un...   \n",
       "2  harpdog brown is a singer and harmonica player...   \n",
       "3  franz rottensteiner born in waidmannsfeld lowe...   \n",
       "4  henry krvits born 30 december 1974 in tallinn ...   \n",
       "\n",
       "                                               tfidf  \n",
       "0  {'melbourne': 0.04943650649482413, 'college': ...  \n",
       "1  {'every': 0.03831773682944378, 'capsule': 0.07...  \n",
       "2  {'society': 0.03991955990922275, 'hamilton': 0...  \n",
       "3  {'kurdlawitzpreis': 0.08928312306619517, 'spec...  \n",
       "4  {'curtis': 0.052582727709648204, 'promo': 0.06...  "
      ]
     },
     "execution_count": 75,
     "metadata": {},
     "output_type": "execute_result"
    }
   ],
   "source": [
    "df.head()"
   ]
  },
  {
   "cell_type": "code",
   "execution_count": 77,
   "id": "0be0d2d0-d212-4439-838b-941f4cf249ab",
   "metadata": {},
   "outputs": [
    {
     "data": {
      "text/plain": [
       "1    {'every': 0.03831773682944378, 'capsule': 0.07...\n",
       "Name: tfidf, dtype: object"
      ]
     },
     "execution_count": 77,
     "metadata": {},
     "output_type": "execute_result"
    }
   ],
   "source": [
    "Alfred=df[df['name']=='Alfred J. Lewy']\n",
    "Alfred['tfidf']"
   ]
  },
  {
   "cell_type": "code",
   "execution_count": 83,
   "id": "7f9cd489-69c3-4913-a88f-2662bef3b5a9",
   "metadata": {},
   "outputs": [],
   "source": [
    "Obama=df[df['name']=='Barack Obama']\n",
    "clinton=df[df['name']=='Bill Clinton']\n",
    "beckham=df[df['name']=='David Beckham']"
   ]
  },
  {
   "cell_type": "code",
   "execution_count": 79,
   "id": "6baba830-fb85-405a-91ef-16a19ec8c065",
   "metadata": {},
   "outputs": [
    {
     "name": "stdout",
     "output_type": "stream",
     "text": [
      "             name                                       sorted_tfidf\n",
      "1  Alfred J. Lewy  {'melatonin': 0.47165369680859387, 'lewy': 0.2...\n"
     ]
    },
    {
     "name": "stderr",
     "output_type": "stream",
     "text": [
      "C:\\Users\\user\\AppData\\Local\\Temp\\ipykernel_9692\\1157993728.py:1: SettingWithCopyWarning: \n",
      "A value is trying to be set on a copy of a slice from a DataFrame.\n",
      "Try using .loc[row_indexer,col_indexer] = value instead\n",
      "\n",
      "See the caveats in the documentation: https://pandas.pydata.org/pandas-docs/stable/user_guide/indexing.html#returning-a-view-versus-a-copy\n",
      "  Alfred['sorted_tfidf'] = Alfred['tfidf'].apply(lambda x: dict(sorted(x.items(), key=lambda item: item[1], reverse=True)))\n"
     ]
    }
   ],
   "source": [
    "Alfred['sorted_tfidf'] = Alfred['tfidf'].apply(lambda x: dict(sorted(x.items(), key=lambda item: item[1], reverse=True)))\n",
    "\n",
    "# Display the sorted TF-IDF dictionary\n",
    "print(Alfred[['name', 'sorted_tfidf']].head())"
   ]
  },
  {
   "cell_type": "code",
   "execution_count": 98,
   "id": "e4227539-961f-4c4b-975e-9bc54ef3c219",
   "metadata": {},
   "outputs": [
    {
     "name": "stdout",
     "output_type": "stream",
     "text": [
      "35817    {'2012obama': 0.07885433263257774, 'doddfrank'...\n",
      "Name: tfidf, dtype: object\n"
     ]
    }
   ],
   "source": [
    "\n",
    "from sklearn.metrics.pairwise import cosine_similarity\n",
    "\n",
    "# Extract TF-IDF dictionaries for Obama and Clinton\n",
    "obama_tfidf = Obama['tfidf'].iloc[0]\n",
    "clinton_tfidf = clinton['tfidf'].iloc[0]\n",
    "print(obama_tfidf)\n"
   ]
  },
  {
   "cell_type": "code",
   "execution_count": 106,
   "id": "50deb930-5fe4-45d0-b6d8-afcd424ccede",
   "metadata": {},
   "outputs": [
    {
     "name": "stdout",
     "output_type": "stream",
     "text": [
      "Cosine Similarity between Obama and Clinton: 0.734728298394171\n"
     ]
    }
   ],
   "source": [
    "## cosine distance using raw text\n",
    "from sklearn.feature_extraction.text import TfidfVectorizer\n",
    "from sklearn.metrics.pairwise import cosine_similarity\n",
    "\n",
    "# Get the raw text data for Obama and Clinton\n",
    "obama_text = Obama['text'].iloc[0]\n",
    "clinton_text = clinton['text'].iloc[0]\n",
    "\n",
    "# Use TfidfVectorizer to transform the raw text into TF-IDF vectors\n",
    "vectorizer = TfidfVectorizer()\n",
    "\n",
    "# Combine the raw texts of Obama and Clinton into a list\n",
    "texts = [obama_text, clinton_text]\n",
    "\n",
    "# Apply the tf-idf transformation\n",
    "tfidf_matrix = vectorizer.fit_transform(texts)\n",
    "\n",
    "# Compute cosine similarity between the two vectors (Obama and Clinton)\n",
    "similarity_obama_clinton = cosine_similarity(tfidf_matrix[0], tfidf_matrix[1])\n",
    "\n",
    "print(\"Cosine Similarity between Obama and Clinton:\", similarity_obama_clinton[0][0])\n"
   ]
  },
  {
   "cell_type": "code",
   "execution_count": 152,
   "id": "bc529e81-326d-4077-88c3-3f94c1a0d9b7",
   "metadata": {},
   "outputs": [
    {
     "name": "stdout",
     "output_type": "stream",
     "text": [
      "Obama's Sorted TF-IDF:\n",
      "            word     tfidf\n",
      "358378    obama  0.413495\n",
      "45070       act  0.282170\n",
      "259085     iraq  0.171970\n",
      "292368      law  0.163903\n",
      "138523  control  0.149369\n",
      "\n",
      "Clooney's Sorted TF-IDF:\n",
      "                word     tfidf\n",
      "127854      clooney  0.350758\n",
      "490967     thriller  0.241411\n",
      "168308        drama  0.179177\n",
      "45486         actor  0.161696\n",
      "132236  comedydrama  0.152711\n",
      "\n",
      "Clinton's Sorted TF-IDF:\n",
      "              word     tfidf\n",
      "127657    clinton  0.521952\n",
      "228969      haiti  0.174967\n",
      "395397  president  0.168248\n",
      "272791      kappa  0.162194\n",
      "65699    arkansas  0.157896\n",
      "\n",
      "Beckham's Sorted TF-IDF:\n",
      "            word     tfidf\n",
      "83844   beckham  0.618249\n",
      "209796   galaxy  0.199990\n",
      "196499     fifa  0.163539\n",
      "386825   player  0.149617\n",
      "293372   league  0.147291\n",
      "\n",
      "Cosine distance between Obama and Clinton's TF-IDF vectors: 0.8110328230075754\n"
     ]
    }
   ],
   "source": [
    "#similarity using tfidf\n",
    "from sklearn.feature_extraction.text import CountVectorizer, TfidfTransformer\n",
    "from scipy.spatial.distance import cosine\n",
    "\n",
    "\n",
    "# Step 1: Create the word count matrix and compute TF-IDF\n",
    "count_vectorizer = CountVectorizer(stop_words='english')\n",
    "word_count_matrix = count_vectorizer.fit_transform(df['text'])\n",
    "\n",
    "tfidf_transformer = TfidfTransformer()\n",
    "tfidf_matrix = tfidf_transformer.fit_transform(word_count_matrix)\n",
    "\n",
    "# Step 2: Function to get sorted TF-IDF values for a specific person\n",
    "def get_sorted_tfidf(name):\n",
    "    # Find the index of the person in the DataFrame\n",
    "    person_index = df[df['name'] == name].index[0]\n",
    "    \n",
    "    # Extract the person's row from the TF-IDF matrix\n",
    "    tfidf_row = tfidf_matrix[person_index]\n",
    "    \n",
    "    # Convert the sparse row to a dense format\n",
    "    tfidf_values = tfidf_row.toarray().flatten()\n",
    "    \n",
    "    # Create a DataFrame with words and their corresponding TF-IDF values\n",
    "    tfidf_data = pd.DataFrame({\n",
    "        'word': count_vectorizer.get_feature_names_out(),\n",
    "        'tfidf': tfidf_values\n",
    "    })\n",
    "    \n",
    "    # Sort the DataFrame by TF-IDF values in descending order\n",
    "    tfidf_data = tfidf_data.sort_values(by='tfidf', ascending=False)\n",
    "    return tfidf_data\n",
    "\n",
    "# Step 3: Compute and display TF-IDF values for each person\n",
    "obama_tfidf = get_sorted_tfidf('Barack Obama')\n",
    "clooney_tfidf = get_sorted_tfidf('George Clooney')\n",
    "clinton_tfidf = get_sorted_tfidf('Bill Clinton')\n",
    "beckham_tfidf = get_sorted_tfidf('David Beckham')\n",
    "\n",
    "# Print sorted TF-IDF data for each person\n",
    "print(\"Obama's Sorted TF-IDF:\\n\", obama_tfidf.head())\n",
    "print(\"\\nClooney's Sorted TF-IDF:\\n\", clooney_tfidf.head())\n",
    "print(\"\\nClinton's Sorted TF-IDF:\\n\", clinton_tfidf.head())\n",
    "print(\"\\nBeckham's Sorted TF-IDF:\\n\", beckham_tfidf.head())\n",
    "\n",
    "# Step 4: Compute cosine similarity between Obama and Clinton\n",
    "obama_index = df[df['name'] == 'Barack Obama'].index[0]\n",
    "clinton_index = df[df['name'] == 'Bill Clinton'].index[0]\n",
    "\n",
    "# Access their TF-IDF vectors directly from the sparse matrix\n",
    "obama_vector = tfidf_matrix[obama_index].toarray().flatten()\n",
    "clinton_vector = tfidf_matrix[clinton_index].toarray().flatten()\n",
    "\n",
    "# Compute cosine distance (1 - cosine similarity)\n",
    "cosine_distance = cosine(obama_vector, clinton_vector)\n",
    "print(\"\\nCosine distance between Obama and Clinton's TF-IDF vectors:\", cosine_distance)\n"
   ]
  },
  {
   "cell_type": "code",
   "execution_count": 154,
   "id": "1ecd4f5a-f121-478d-9d4c-0592ad464c0e",
   "metadata": {},
   "outputs": [
    {
     "data": {
      "text/plain": [
       "35817"
      ]
     },
     "execution_count": 154,
     "metadata": {},
     "output_type": "execute_result"
    }
   ],
   "source": [
    "obama_index"
   ]
  },
  {
   "cell_type": "code",
   "execution_count": 156,
   "id": "a6283629-0904-460a-b5f9-295ca5b57498",
   "metadata": {},
   "outputs": [
    {
     "data": {
      "text/plain": [
       "array([0., 0., 0., ..., 0., 0., 0.])"
      ]
     },
     "execution_count": 156,
     "metadata": {},
     "output_type": "execute_result"
    }
   ],
   "source": [
    "obama_vector"
   ]
  },
  {
   "cell_type": "code",
   "execution_count": 162,
   "id": "2408902e-0426-491f-afe5-ff3bb3a85d8e",
   "metadata": {},
   "outputs": [],
   "source": [
    "o_v=tfidf_matrix[obama_index].toarray().flatten()\n",
    "c_v = tfidf_matrix[clinton_index].toarray().flatten()"
   ]
  },
  {
   "cell_type": "code",
   "execution_count": 164,
   "id": "ff230c89-8623-490e-8de5-2f25bcaf8ee2",
   "metadata": {},
   "outputs": [
    {
     "name": "stdout",
     "output_type": "stream",
     "text": [
      "\n",
      "Cosine distance between Obama and Clinton's TF-IDF vectors: 0.674977752652465\n"
     ]
    }
   ],
   "source": [
    "cosine_distance = cosine(o_v, c_v)\n",
    "print(\"\\nCosine distance between Obama and Clinton's TF-IDF vectors:\", cosine_distance)"
   ]
  },
  {
   "cell_type": "code",
   "execution_count": 166,
   "id": "d938b605-20dd-4b2f-80a3-0fea9174f884",
   "metadata": {},
   "outputs": [
    {
     "data": {
      "text/plain": [
       "<59071x548115 sparse matrix of type '<class 'numpy.int64'>'\n",
       "\twith 8078359 stored elements in Compressed Sparse Row format>"
      ]
     },
     "execution_count": 166,
     "metadata": {},
     "output_type": "execute_result"
    }
   ],
   "source": [
    "word_count_matrix"
   ]
  },
  {
   "cell_type": "code",
   "execution_count": 168,
   "id": "23a19728-0e76-4046-b1e3-e6dc66906038",
   "metadata": {},
   "outputs": [
    {
     "name": "stdout",
     "output_type": "stream",
     "text": [
      "  (0, 160586)\t1\n",
      "  (0, 336006)\t5\n",
      "  (0, 96562)\t1\n",
      "  (0, 704)\t1\n",
      "  (0, 359398)\t1\n",
      "  (0, 11143)\t1\n",
      "  (0, 72855)\t3\n",
      "  (0, 427109)\t1\n",
      "  (0, 202134)\t1\n",
      "  (0, 386788)\t3\n",
      "  (0, 272389)\t3\n",
      "  (0, 111892)\t2\n",
      "  (0, 202093)\t10\n",
      "  (0, 293372)\t4\n",
      "  (0, 48412)\t1\n",
      "  (0, 529065)\t1\n",
      "  (0, 72702)\t1\n",
      "  (0, 172590)\t1\n",
      "  (0, 442626)\t3\n",
      "  (0, 528963)\t2\n",
      "  (0, 380705)\t1\n",
      "  (0, 34683)\t1\n",
      "  (0, 111154)\t1\n",
      "  (0, 191018)\t1\n",
      "  (0, 461663)\t1\n",
      "  :\t:\n",
      "  (59070, 104364)\t1\n",
      "  (59070, 475179)\t1\n",
      "  (59070, 138816)\t1\n",
      "  (59070, 180342)\t1\n",
      "  (59070, 374265)\t1\n",
      "  (59070, 152743)\t1\n",
      "  (59070, 138553)\t1\n",
      "  (59070, 386115)\t1\n",
      "  (59070, 371604)\t1\n",
      "  (59070, 307073)\t1\n",
      "  (59070, 257042)\t1\n",
      "  (59070, 156823)\t1\n",
      "  (59070, 266377)\t2\n",
      "  (59070, 336416)\t1\n",
      "  (59070, 22951)\t1\n",
      "  (59070, 250788)\t1\n",
      "  (59070, 126884)\t1\n",
      "  (59070, 418921)\t1\n",
      "  (59070, 413994)\t1\n",
      "  (59070, 193180)\t1\n",
      "  (59070, 135411)\t1\n",
      "  (59070, 149753)\t4\n",
      "  (59070, 193198)\t1\n",
      "  (59070, 149752)\t1\n",
      "  (59070, 502085)\t1\n"
     ]
    }
   ],
   "source": [
    "print(word_count_matrix)"
   ]
  },
  {
   "cell_type": "code",
   "execution_count": 170,
   "id": "2bc23de4-3835-4802-903e-28391b94ac58",
   "metadata": {},
   "outputs": [],
   "source": [
    "o_v=tfidf_sparse_matrix[obama_index].toarray().flatten()\n",
    "c_v = tfidf_sparse_matrix[clinton_index].toarray().flatten()"
   ]
  },
  {
   "cell_type": "code",
   "execution_count": 172,
   "id": "84f681cb-d395-4386-8a7a-95d0ed82e007",
   "metadata": {},
   "outputs": [
    {
     "name": "stdout",
     "output_type": "stream",
     "text": [
      "\n",
      "Cosine distance between Obama and Clinton's TF-IDF vectors: 0.6433967902533614\n"
     ]
    }
   ],
   "source": [
    "cosine_distance = cosine(o_v, c_v)\n",
    "print(\"\\nCosine distance between Obama and Clinton's TF-IDF vectors:\", cosine_distance)"
   ]
  },
  {
   "cell_type": "code",
   "execution_count": 174,
   "id": "350a6572-2c36-4632-9803-8ad89877beaa",
   "metadata": {},
   "outputs": [
    {
     "data": {
      "text/html": [
       "<div>\n",
       "<style scoped>\n",
       "    .dataframe tbody tr th:only-of-type {\n",
       "        vertical-align: middle;\n",
       "    }\n",
       "\n",
       "    .dataframe tbody tr th {\n",
       "        vertical-align: top;\n",
       "    }\n",
       "\n",
       "    .dataframe thead th {\n",
       "        text-align: right;\n",
       "    }\n",
       "</style>\n",
       "<table border=\"1\" class=\"dataframe\">\n",
       "  <thead>\n",
       "    <tr style=\"text-align: right;\">\n",
       "      <th></th>\n",
       "      <th>URI</th>\n",
       "      <th>name</th>\n",
       "      <th>text</th>\n",
       "      <th>tfidf</th>\n",
       "    </tr>\n",
       "  </thead>\n",
       "  <tbody>\n",
       "    <tr>\n",
       "      <th>0</th>\n",
       "      <td>&lt;http://dbpedia.org/resource/Digby_Morrell&gt;</td>\n",
       "      <td>Digby Morrell</td>\n",
       "      <td>digby morrell born 10 october 1979 is a former...</td>\n",
       "      <td>{'melbourne': 0.04943650649482413, 'college': ...</td>\n",
       "    </tr>\n",
       "    <tr>\n",
       "      <th>1</th>\n",
       "      <td>&lt;http://dbpedia.org/resource/Alfred_J._Lewy&gt;</td>\n",
       "      <td>Alfred J. Lewy</td>\n",
       "      <td>alfred j lewy aka sandy lewy graduated from un...</td>\n",
       "      <td>{'every': 0.03831773682944378, 'capsule': 0.07...</td>\n",
       "    </tr>\n",
       "    <tr>\n",
       "      <th>2</th>\n",
       "      <td>&lt;http://dbpedia.org/resource/Harpdog_Brown&gt;</td>\n",
       "      <td>Harpdog Brown</td>\n",
       "      <td>harpdog brown is a singer and harmonica player...</td>\n",
       "      <td>{'society': 0.03991955990922275, 'hamilton': 0...</td>\n",
       "    </tr>\n",
       "    <tr>\n",
       "      <th>3</th>\n",
       "      <td>&lt;http://dbpedia.org/resource/Franz_Rottensteiner&gt;</td>\n",
       "      <td>Franz Rottensteiner</td>\n",
       "      <td>franz rottensteiner born in waidmannsfeld lowe...</td>\n",
       "      <td>{'kurdlawitzpreis': 0.08928312306619517, 'spec...</td>\n",
       "    </tr>\n",
       "    <tr>\n",
       "      <th>4</th>\n",
       "      <td>&lt;http://dbpedia.org/resource/G-Enka&gt;</td>\n",
       "      <td>G-Enka</td>\n",
       "      <td>henry krvits born 30 december 1974 in tallinn ...</td>\n",
       "      <td>{'curtis': 0.052582727709648204, 'promo': 0.06...</td>\n",
       "    </tr>\n",
       "  </tbody>\n",
       "</table>\n",
       "</div>"
      ],
      "text/plain": [
       "                                                 URI                 name  \\\n",
       "0        <http://dbpedia.org/resource/Digby_Morrell>        Digby Morrell   \n",
       "1       <http://dbpedia.org/resource/Alfred_J._Lewy>       Alfred J. Lewy   \n",
       "2        <http://dbpedia.org/resource/Harpdog_Brown>        Harpdog Brown   \n",
       "3  <http://dbpedia.org/resource/Franz_Rottensteiner>  Franz Rottensteiner   \n",
       "4               <http://dbpedia.org/resource/G-Enka>               G-Enka   \n",
       "\n",
       "                                                text  \\\n",
       "0  digby morrell born 10 october 1979 is a former...   \n",
       "1  alfred j lewy aka sandy lewy graduated from un...   \n",
       "2  harpdog brown is a singer and harmonica player...   \n",
       "3  franz rottensteiner born in waidmannsfeld lowe...   \n",
       "4  henry krvits born 30 december 1974 in tallinn ...   \n",
       "\n",
       "                                               tfidf  \n",
       "0  {'melbourne': 0.04943650649482413, 'college': ...  \n",
       "1  {'every': 0.03831773682944378, 'capsule': 0.07...  \n",
       "2  {'society': 0.03991955990922275, 'hamilton': 0...  \n",
       "3  {'kurdlawitzpreis': 0.08928312306619517, 'spec...  \n",
       "4  {'curtis': 0.052582727709648204, 'promo': 0.06...  "
      ]
     },
     "execution_count": 174,
     "metadata": {},
     "output_type": "execute_result"
    }
   ],
   "source": [
    "df.head()"
   ]
  },
  {
   "cell_type": "markdown",
   "id": "7e03032d-fd2b-4751-be96-b09a31037486",
   "metadata": {},
   "source": [
    "#applying knn(after 41 cell one can do this)"
   ]
  },
  {
   "cell_type": "code",
   "execution_count": 47,
   "id": "6a094a58-a411-4115-bd25-4f03590c3b9d",
   "metadata": {},
   "outputs": [],
   "source": [
    "#splitting data\n",
    "from sklearn.model_selection import train_test_split\n",
    "\n",
    "X_train, X_test, y_train, y_test = train_test_split(\n",
    "    df.text, \n",
    "    df.name, \n",
    "    test_size=0.2, # 20% samples will go to test dataset\n",
    "    random_state=2022,\n",
    "   \n",
    ")"
   ]
  },
  {
   "cell_type": "code",
   "execution_count": 69,
   "id": "86ba127c-081e-4ae6-88af-7f912a406e70",
   "metadata": {},
   "outputs": [],
   "source": [
    "X=df['text']\n",
    "y=df['name']"
   ]
  },
  {
   "cell_type": "code",
   "execution_count": 71,
   "id": "23cefba3-1f2d-4d0f-8949-ee3a870d1390",
   "metadata": {},
   "outputs": [
    {
     "data": {
      "text/html": [
       "<style>#sk-container-id-1 {\n",
       "  /* Definition of color scheme common for light and dark mode */\n",
       "  --sklearn-color-text: black;\n",
       "  --sklearn-color-line: gray;\n",
       "  /* Definition of color scheme for unfitted estimators */\n",
       "  --sklearn-color-unfitted-level-0: #fff5e6;\n",
       "  --sklearn-color-unfitted-level-1: #f6e4d2;\n",
       "  --sklearn-color-unfitted-level-2: #ffe0b3;\n",
       "  --sklearn-color-unfitted-level-3: chocolate;\n",
       "  /* Definition of color scheme for fitted estimators */\n",
       "  --sklearn-color-fitted-level-0: #f0f8ff;\n",
       "  --sklearn-color-fitted-level-1: #d4ebff;\n",
       "  --sklearn-color-fitted-level-2: #b3dbfd;\n",
       "  --sklearn-color-fitted-level-3: cornflowerblue;\n",
       "\n",
       "  /* Specific color for light theme */\n",
       "  --sklearn-color-text-on-default-background: var(--sg-text-color, var(--theme-code-foreground, var(--jp-content-font-color1, black)));\n",
       "  --sklearn-color-background: var(--sg-background-color, var(--theme-background, var(--jp-layout-color0, white)));\n",
       "  --sklearn-color-border-box: var(--sg-text-color, var(--theme-code-foreground, var(--jp-content-font-color1, black)));\n",
       "  --sklearn-color-icon: #696969;\n",
       "\n",
       "  @media (prefers-color-scheme: dark) {\n",
       "    /* Redefinition of color scheme for dark theme */\n",
       "    --sklearn-color-text-on-default-background: var(--sg-text-color, var(--theme-code-foreground, var(--jp-content-font-color1, white)));\n",
       "    --sklearn-color-background: var(--sg-background-color, var(--theme-background, var(--jp-layout-color0, #111)));\n",
       "    --sklearn-color-border-box: var(--sg-text-color, var(--theme-code-foreground, var(--jp-content-font-color1, white)));\n",
       "    --sklearn-color-icon: #878787;\n",
       "  }\n",
       "}\n",
       "\n",
       "#sk-container-id-1 {\n",
       "  color: var(--sklearn-color-text);\n",
       "}\n",
       "\n",
       "#sk-container-id-1 pre {\n",
       "  padding: 0;\n",
       "}\n",
       "\n",
       "#sk-container-id-1 input.sk-hidden--visually {\n",
       "  border: 0;\n",
       "  clip: rect(1px 1px 1px 1px);\n",
       "  clip: rect(1px, 1px, 1px, 1px);\n",
       "  height: 1px;\n",
       "  margin: -1px;\n",
       "  overflow: hidden;\n",
       "  padding: 0;\n",
       "  position: absolute;\n",
       "  width: 1px;\n",
       "}\n",
       "\n",
       "#sk-container-id-1 div.sk-dashed-wrapped {\n",
       "  border: 1px dashed var(--sklearn-color-line);\n",
       "  margin: 0 0.4em 0.5em 0.4em;\n",
       "  box-sizing: border-box;\n",
       "  padding-bottom: 0.4em;\n",
       "  background-color: var(--sklearn-color-background);\n",
       "}\n",
       "\n",
       "#sk-container-id-1 div.sk-container {\n",
       "  /* jupyter's `normalize.less` sets `[hidden] { display: none; }`\n",
       "     but bootstrap.min.css set `[hidden] { display: none !important; }`\n",
       "     so we also need the `!important` here to be able to override the\n",
       "     default hidden behavior on the sphinx rendered scikit-learn.org.\n",
       "     See: https://github.com/scikit-learn/scikit-learn/issues/21755 */\n",
       "  display: inline-block !important;\n",
       "  position: relative;\n",
       "}\n",
       "\n",
       "#sk-container-id-1 div.sk-text-repr-fallback {\n",
       "  display: none;\n",
       "}\n",
       "\n",
       "div.sk-parallel-item,\n",
       "div.sk-serial,\n",
       "div.sk-item {\n",
       "  /* draw centered vertical line to link estimators */\n",
       "  background-image: linear-gradient(var(--sklearn-color-text-on-default-background), var(--sklearn-color-text-on-default-background));\n",
       "  background-size: 2px 100%;\n",
       "  background-repeat: no-repeat;\n",
       "  background-position: center center;\n",
       "}\n",
       "\n",
       "/* Parallel-specific style estimator block */\n",
       "\n",
       "#sk-container-id-1 div.sk-parallel-item::after {\n",
       "  content: \"\";\n",
       "  width: 100%;\n",
       "  border-bottom: 2px solid var(--sklearn-color-text-on-default-background);\n",
       "  flex-grow: 1;\n",
       "}\n",
       "\n",
       "#sk-container-id-1 div.sk-parallel {\n",
       "  display: flex;\n",
       "  align-items: stretch;\n",
       "  justify-content: center;\n",
       "  background-color: var(--sklearn-color-background);\n",
       "  position: relative;\n",
       "}\n",
       "\n",
       "#sk-container-id-1 div.sk-parallel-item {\n",
       "  display: flex;\n",
       "  flex-direction: column;\n",
       "}\n",
       "\n",
       "#sk-container-id-1 div.sk-parallel-item:first-child::after {\n",
       "  align-self: flex-end;\n",
       "  width: 50%;\n",
       "}\n",
       "\n",
       "#sk-container-id-1 div.sk-parallel-item:last-child::after {\n",
       "  align-self: flex-start;\n",
       "  width: 50%;\n",
       "}\n",
       "\n",
       "#sk-container-id-1 div.sk-parallel-item:only-child::after {\n",
       "  width: 0;\n",
       "}\n",
       "\n",
       "/* Serial-specific style estimator block */\n",
       "\n",
       "#sk-container-id-1 div.sk-serial {\n",
       "  display: flex;\n",
       "  flex-direction: column;\n",
       "  align-items: center;\n",
       "  background-color: var(--sklearn-color-background);\n",
       "  padding-right: 1em;\n",
       "  padding-left: 1em;\n",
       "}\n",
       "\n",
       "\n",
       "/* Toggleable style: style used for estimator/Pipeline/ColumnTransformer box that is\n",
       "clickable and can be expanded/collapsed.\n",
       "- Pipeline and ColumnTransformer use this feature and define the default style\n",
       "- Estimators will overwrite some part of the style using the `sk-estimator` class\n",
       "*/\n",
       "\n",
       "/* Pipeline and ColumnTransformer style (default) */\n",
       "\n",
       "#sk-container-id-1 div.sk-toggleable {\n",
       "  /* Default theme specific background. It is overwritten whether we have a\n",
       "  specific estimator or a Pipeline/ColumnTransformer */\n",
       "  background-color: var(--sklearn-color-background);\n",
       "}\n",
       "\n",
       "/* Toggleable label */\n",
       "#sk-container-id-1 label.sk-toggleable__label {\n",
       "  cursor: pointer;\n",
       "  display: block;\n",
       "  width: 100%;\n",
       "  margin-bottom: 0;\n",
       "  padding: 0.5em;\n",
       "  box-sizing: border-box;\n",
       "  text-align: center;\n",
       "}\n",
       "\n",
       "#sk-container-id-1 label.sk-toggleable__label-arrow:before {\n",
       "  /* Arrow on the left of the label */\n",
       "  content: \"▸\";\n",
       "  float: left;\n",
       "  margin-right: 0.25em;\n",
       "  color: var(--sklearn-color-icon);\n",
       "}\n",
       "\n",
       "#sk-container-id-1 label.sk-toggleable__label-arrow:hover:before {\n",
       "  color: var(--sklearn-color-text);\n",
       "}\n",
       "\n",
       "/* Toggleable content - dropdown */\n",
       "\n",
       "#sk-container-id-1 div.sk-toggleable__content {\n",
       "  max-height: 0;\n",
       "  max-width: 0;\n",
       "  overflow: hidden;\n",
       "  text-align: left;\n",
       "  /* unfitted */\n",
       "  background-color: var(--sklearn-color-unfitted-level-0);\n",
       "}\n",
       "\n",
       "#sk-container-id-1 div.sk-toggleable__content.fitted {\n",
       "  /* fitted */\n",
       "  background-color: var(--sklearn-color-fitted-level-0);\n",
       "}\n",
       "\n",
       "#sk-container-id-1 div.sk-toggleable__content pre {\n",
       "  margin: 0.2em;\n",
       "  border-radius: 0.25em;\n",
       "  color: var(--sklearn-color-text);\n",
       "  /* unfitted */\n",
       "  background-color: var(--sklearn-color-unfitted-level-0);\n",
       "}\n",
       "\n",
       "#sk-container-id-1 div.sk-toggleable__content.fitted pre {\n",
       "  /* unfitted */\n",
       "  background-color: var(--sklearn-color-fitted-level-0);\n",
       "}\n",
       "\n",
       "#sk-container-id-1 input.sk-toggleable__control:checked~div.sk-toggleable__content {\n",
       "  /* Expand drop-down */\n",
       "  max-height: 200px;\n",
       "  max-width: 100%;\n",
       "  overflow: auto;\n",
       "}\n",
       "\n",
       "#sk-container-id-1 input.sk-toggleable__control:checked~label.sk-toggleable__label-arrow:before {\n",
       "  content: \"▾\";\n",
       "}\n",
       "\n",
       "/* Pipeline/ColumnTransformer-specific style */\n",
       "\n",
       "#sk-container-id-1 div.sk-label input.sk-toggleable__control:checked~label.sk-toggleable__label {\n",
       "  color: var(--sklearn-color-text);\n",
       "  background-color: var(--sklearn-color-unfitted-level-2);\n",
       "}\n",
       "\n",
       "#sk-container-id-1 div.sk-label.fitted input.sk-toggleable__control:checked~label.sk-toggleable__label {\n",
       "  background-color: var(--sklearn-color-fitted-level-2);\n",
       "}\n",
       "\n",
       "/* Estimator-specific style */\n",
       "\n",
       "/* Colorize estimator box */\n",
       "#sk-container-id-1 div.sk-estimator input.sk-toggleable__control:checked~label.sk-toggleable__label {\n",
       "  /* unfitted */\n",
       "  background-color: var(--sklearn-color-unfitted-level-2);\n",
       "}\n",
       "\n",
       "#sk-container-id-1 div.sk-estimator.fitted input.sk-toggleable__control:checked~label.sk-toggleable__label {\n",
       "  /* fitted */\n",
       "  background-color: var(--sklearn-color-fitted-level-2);\n",
       "}\n",
       "\n",
       "#sk-container-id-1 div.sk-label label.sk-toggleable__label,\n",
       "#sk-container-id-1 div.sk-label label {\n",
       "  /* The background is the default theme color */\n",
       "  color: var(--sklearn-color-text-on-default-background);\n",
       "}\n",
       "\n",
       "/* On hover, darken the color of the background */\n",
       "#sk-container-id-1 div.sk-label:hover label.sk-toggleable__label {\n",
       "  color: var(--sklearn-color-text);\n",
       "  background-color: var(--sklearn-color-unfitted-level-2);\n",
       "}\n",
       "\n",
       "/* Label box, darken color on hover, fitted */\n",
       "#sk-container-id-1 div.sk-label.fitted:hover label.sk-toggleable__label.fitted {\n",
       "  color: var(--sklearn-color-text);\n",
       "  background-color: var(--sklearn-color-fitted-level-2);\n",
       "}\n",
       "\n",
       "/* Estimator label */\n",
       "\n",
       "#sk-container-id-1 div.sk-label label {\n",
       "  font-family: monospace;\n",
       "  font-weight: bold;\n",
       "  display: inline-block;\n",
       "  line-height: 1.2em;\n",
       "}\n",
       "\n",
       "#sk-container-id-1 div.sk-label-container {\n",
       "  text-align: center;\n",
       "}\n",
       "\n",
       "/* Estimator-specific */\n",
       "#sk-container-id-1 div.sk-estimator {\n",
       "  font-family: monospace;\n",
       "  border: 1px dotted var(--sklearn-color-border-box);\n",
       "  border-radius: 0.25em;\n",
       "  box-sizing: border-box;\n",
       "  margin-bottom: 0.5em;\n",
       "  /* unfitted */\n",
       "  background-color: var(--sklearn-color-unfitted-level-0);\n",
       "}\n",
       "\n",
       "#sk-container-id-1 div.sk-estimator.fitted {\n",
       "  /* fitted */\n",
       "  background-color: var(--sklearn-color-fitted-level-0);\n",
       "}\n",
       "\n",
       "/* on hover */\n",
       "#sk-container-id-1 div.sk-estimator:hover {\n",
       "  /* unfitted */\n",
       "  background-color: var(--sklearn-color-unfitted-level-2);\n",
       "}\n",
       "\n",
       "#sk-container-id-1 div.sk-estimator.fitted:hover {\n",
       "  /* fitted */\n",
       "  background-color: var(--sklearn-color-fitted-level-2);\n",
       "}\n",
       "\n",
       "/* Specification for estimator info (e.g. \"i\" and \"?\") */\n",
       "\n",
       "/* Common style for \"i\" and \"?\" */\n",
       "\n",
       ".sk-estimator-doc-link,\n",
       "a:link.sk-estimator-doc-link,\n",
       "a:visited.sk-estimator-doc-link {\n",
       "  float: right;\n",
       "  font-size: smaller;\n",
       "  line-height: 1em;\n",
       "  font-family: monospace;\n",
       "  background-color: var(--sklearn-color-background);\n",
       "  border-radius: 1em;\n",
       "  height: 1em;\n",
       "  width: 1em;\n",
       "  text-decoration: none !important;\n",
       "  margin-left: 1ex;\n",
       "  /* unfitted */\n",
       "  border: var(--sklearn-color-unfitted-level-1) 1pt solid;\n",
       "  color: var(--sklearn-color-unfitted-level-1);\n",
       "}\n",
       "\n",
       ".sk-estimator-doc-link.fitted,\n",
       "a:link.sk-estimator-doc-link.fitted,\n",
       "a:visited.sk-estimator-doc-link.fitted {\n",
       "  /* fitted */\n",
       "  border: var(--sklearn-color-fitted-level-1) 1pt solid;\n",
       "  color: var(--sklearn-color-fitted-level-1);\n",
       "}\n",
       "\n",
       "/* On hover */\n",
       "div.sk-estimator:hover .sk-estimator-doc-link:hover,\n",
       ".sk-estimator-doc-link:hover,\n",
       "div.sk-label-container:hover .sk-estimator-doc-link:hover,\n",
       ".sk-estimator-doc-link:hover {\n",
       "  /* unfitted */\n",
       "  background-color: var(--sklearn-color-unfitted-level-3);\n",
       "  color: var(--sklearn-color-background);\n",
       "  text-decoration: none;\n",
       "}\n",
       "\n",
       "div.sk-estimator.fitted:hover .sk-estimator-doc-link.fitted:hover,\n",
       ".sk-estimator-doc-link.fitted:hover,\n",
       "div.sk-label-container:hover .sk-estimator-doc-link.fitted:hover,\n",
       ".sk-estimator-doc-link.fitted:hover {\n",
       "  /* fitted */\n",
       "  background-color: var(--sklearn-color-fitted-level-3);\n",
       "  color: var(--sklearn-color-background);\n",
       "  text-decoration: none;\n",
       "}\n",
       "\n",
       "/* Span, style for the box shown on hovering the info icon */\n",
       ".sk-estimator-doc-link span {\n",
       "  display: none;\n",
       "  z-index: 9999;\n",
       "  position: relative;\n",
       "  font-weight: normal;\n",
       "  right: .2ex;\n",
       "  padding: .5ex;\n",
       "  margin: .5ex;\n",
       "  width: min-content;\n",
       "  min-width: 20ex;\n",
       "  max-width: 50ex;\n",
       "  color: var(--sklearn-color-text);\n",
       "  box-shadow: 2pt 2pt 4pt #999;\n",
       "  /* unfitted */\n",
       "  background: var(--sklearn-color-unfitted-level-0);\n",
       "  border: .5pt solid var(--sklearn-color-unfitted-level-3);\n",
       "}\n",
       "\n",
       ".sk-estimator-doc-link.fitted span {\n",
       "  /* fitted */\n",
       "  background: var(--sklearn-color-fitted-level-0);\n",
       "  border: var(--sklearn-color-fitted-level-3);\n",
       "}\n",
       "\n",
       ".sk-estimator-doc-link:hover span {\n",
       "  display: block;\n",
       "}\n",
       "\n",
       "/* \"?\"-specific style due to the `<a>` HTML tag */\n",
       "\n",
       "#sk-container-id-1 a.estimator_doc_link {\n",
       "  float: right;\n",
       "  font-size: 1rem;\n",
       "  line-height: 1em;\n",
       "  font-family: monospace;\n",
       "  background-color: var(--sklearn-color-background);\n",
       "  border-radius: 1rem;\n",
       "  height: 1rem;\n",
       "  width: 1rem;\n",
       "  text-decoration: none;\n",
       "  /* unfitted */\n",
       "  color: var(--sklearn-color-unfitted-level-1);\n",
       "  border: var(--sklearn-color-unfitted-level-1) 1pt solid;\n",
       "}\n",
       "\n",
       "#sk-container-id-1 a.estimator_doc_link.fitted {\n",
       "  /* fitted */\n",
       "  border: var(--sklearn-color-fitted-level-1) 1pt solid;\n",
       "  color: var(--sklearn-color-fitted-level-1);\n",
       "}\n",
       "\n",
       "/* On hover */\n",
       "#sk-container-id-1 a.estimator_doc_link:hover {\n",
       "  /* unfitted */\n",
       "  background-color: var(--sklearn-color-unfitted-level-3);\n",
       "  color: var(--sklearn-color-background);\n",
       "  text-decoration: none;\n",
       "}\n",
       "\n",
       "#sk-container-id-1 a.estimator_doc_link.fitted:hover {\n",
       "  /* fitted */\n",
       "  background-color: var(--sklearn-color-fitted-level-3);\n",
       "}\n",
       "</style><div id=\"sk-container-id-1\" class=\"sk-top-container\"><div class=\"sk-text-repr-fallback\"><pre>Pipeline(steps=[(&#x27;vectorizer_tfidf&#x27;, TfidfVectorizer()),\n",
       "                (&#x27;KNN&#x27;, KNeighborsClassifier())])</pre><b>In a Jupyter environment, please rerun this cell to show the HTML representation or trust the notebook. <br />On GitHub, the HTML representation is unable to render, please try loading this page with nbviewer.org.</b></div><div class=\"sk-container\" hidden><div class=\"sk-item sk-dashed-wrapped\"><div class=\"sk-label-container\"><div class=\"sk-label fitted sk-toggleable\"><input class=\"sk-toggleable__control sk-hidden--visually\" id=\"sk-estimator-id-1\" type=\"checkbox\" ><label for=\"sk-estimator-id-1\" class=\"sk-toggleable__label fitted sk-toggleable__label-arrow fitted\">&nbsp;&nbsp;Pipeline<a class=\"sk-estimator-doc-link fitted\" rel=\"noreferrer\" target=\"_blank\" href=\"https://scikit-learn.org/1.4/modules/generated/sklearn.pipeline.Pipeline.html\">?<span>Documentation for Pipeline</span></a><span class=\"sk-estimator-doc-link fitted\">i<span>Fitted</span></span></label><div class=\"sk-toggleable__content fitted\"><pre>Pipeline(steps=[(&#x27;vectorizer_tfidf&#x27;, TfidfVectorizer()),\n",
       "                (&#x27;KNN&#x27;, KNeighborsClassifier())])</pre></div> </div></div><div class=\"sk-serial\"><div class=\"sk-item\"><div class=\"sk-estimator fitted sk-toggleable\"><input class=\"sk-toggleable__control sk-hidden--visually\" id=\"sk-estimator-id-2\" type=\"checkbox\" ><label for=\"sk-estimator-id-2\" class=\"sk-toggleable__label fitted sk-toggleable__label-arrow fitted\">&nbsp;TfidfVectorizer<a class=\"sk-estimator-doc-link fitted\" rel=\"noreferrer\" target=\"_blank\" href=\"https://scikit-learn.org/1.4/modules/generated/sklearn.feature_extraction.text.TfidfVectorizer.html\">?<span>Documentation for TfidfVectorizer</span></a></label><div class=\"sk-toggleable__content fitted\"><pre>TfidfVectorizer()</pre></div> </div></div><div class=\"sk-item\"><div class=\"sk-estimator fitted sk-toggleable\"><input class=\"sk-toggleable__control sk-hidden--visually\" id=\"sk-estimator-id-3\" type=\"checkbox\" ><label for=\"sk-estimator-id-3\" class=\"sk-toggleable__label fitted sk-toggleable__label-arrow fitted\">&nbsp;KNeighborsClassifier<a class=\"sk-estimator-doc-link fitted\" rel=\"noreferrer\" target=\"_blank\" href=\"https://scikit-learn.org/1.4/modules/generated/sklearn.neighbors.KNeighborsClassifier.html\">?<span>Documentation for KNeighborsClassifier</span></a></label><div class=\"sk-toggleable__content fitted\"><pre>KNeighborsClassifier()</pre></div> </div></div></div></div></div></div>"
      ],
      "text/plain": [
       "Pipeline(steps=[('vectorizer_tfidf', TfidfVectorizer()),\n",
       "                ('KNN', KNeighborsClassifier())])"
      ]
     },
     "execution_count": 71,
     "metadata": {},
     "output_type": "execute_result"
    }
   ],
   "source": [
    "#knn\n",
    "from sklearn.neighbors import KNeighborsClassifier\n",
    "from sklearn.pipeline import Pipeline\n",
    "from sklearn.metrics import classification_report\n",
    "\n",
    "#1. create a pipeline object\n",
    "clf = Pipeline([\n",
    "     ('vectorizer_tfidf',TfidfVectorizer()),    \n",
    "     ('KNN', KNeighborsClassifier())         \n",
    "])\n",
    "\n",
    "#2. fit with X_train and y_train\n",
    "clf.fit(X,y)\n",
    "\n",
    "\n",
    "#3. get the predictions for X_test and store it in y_pred\n",
    "#y_pred = clf.predict(X_test)\n",
    "\n",
    "\n",
    "#4. print the classfication report\n",
    "#print(classification_report(y_test, y_pred))"
   ]
  },
  {
   "cell_type": "code",
   "execution_count": 51,
   "id": "b54a961c-b896-4eb0-80b4-c795c99e92b1",
   "metadata": {},
   "outputs": [
    {
     "name": "stdout",
     "output_type": "stream",
     "text": [
      "12912    joe williams qso is a cook islands politician ...\n",
      "51084    corrado grabbi born 29 july 1975 in turin is a...\n",
      "45100    thomas tom amadeus kalil born october 4 1963 i...\n",
      "37065    hikmet temel akarsu born 1960 in gmhane turkey...\n",
      "20752    christopher james chris kluwe klui born decemb...\n",
      "Name: text, dtype: object\n"
     ]
    }
   ],
   "source": [
    "print(X_test[:5])"
   ]
  },
  {
   "cell_type": "code",
   "execution_count": 53,
   "id": "1b691ccf-4b22-4a10-94bf-9cd04b0e641a",
   "metadata": {},
   "outputs": [
    {
     "name": "stdout",
     "output_type": "stream",
     "text": [
      "12912    Joe Williams (Cook Islands politician)\n",
      "51084                            Corrado Grabbi\n",
      "45100                              Thomas Kalil\n",
      "37065                       Hikmet Temel Akarsu\n",
      "20752                               Chris Kluwe\n",
      "Name: name, dtype: object\n"
     ]
    }
   ],
   "source": [
    "print(y_test[:5])"
   ]
  },
  {
   "cell_type": "code",
   "execution_count": 55,
   "id": "cf1251d4-cf8f-48c1-84e8-28b37c27a2ab",
   "metadata": {},
   "outputs": [
    {
     "name": "stdout",
     "output_type": "stream",
     "text": [
      "['Edison James' 'Jason Roberts (footballer)' 'Abbe Mowshowitz'\n",
      " 'Ali F. Bilir' 'Bill Brown (American football)']\n"
     ]
    }
   ],
   "source": [
    "print(y_pred[:5])"
   ]
  },
  {
   "cell_type": "code",
   "execution_count": 59,
   "id": "ba505ad9-172a-4b3d-b106-1b026cfc4535",
   "metadata": {},
   "outputs": [
    {
     "name": "stdout",
     "output_type": "stream",
     "text": [
      "35817\n"
     ]
    }
   ],
   "source": [
    "index_value = df.loc[df['name'] == 'Barack Obama'].index[0]\n",
    "print(index_value)"
   ]
  },
  {
   "cell_type": "code",
   "execution_count": 77,
   "id": "c4926b37-fc9c-4560-9d42-bfa2229ded17",
   "metadata": {},
   "outputs": [],
   "source": [
    "# 1. Get the vectorized representation of X_test\n",
    "vectorizer = clf.named_steps['vectorizer_tfidf']  # Extract the TfidfVectorizer\n",
    "X_test_vectorized = vectorizer.transform(X)\n",
    "\n",
    "# 2. Use the trained KNeighborsClassifier to find the 5 nearest neighbors\n",
    "knn_model = clf.named_steps['KNN']  # Extract the KNeighborsClassifier\n",
    "\n"
   ]
  },
  {
   "cell_type": "code",
   "execution_count": 79,
   "id": "48d14f40-fe74-4f12-9c17-ad308e3d7443",
   "metadata": {},
   "outputs": [
    {
     "name": "stdout",
     "output_type": "stream",
     "text": [
      "Indices of nearest neighbors: [[35817 24478 57108 38376 38714]]\n",
      "Distances of nearest neighbors: [[0.         1.06843875 1.1098956  1.11802815 1.13996938]]\n",
      "Nearest texts:\n",
      "35817    barack hussein obama ii brk husen bm born augu...\n",
      "24478    joseph robinette joe biden jr dosf rbnt badn b...\n",
      "57108    hillary diane rodham clinton hlri dan rdm klnt...\n",
      "38376    samantha power born september 21 1970 is an ir...\n",
      "38714    eric stern is the director of operations for t...\n",
      "Name: text, dtype: object\n",
      "Nearest names:\n",
      "35817               Barack Obama\n",
      "24478                  Joe Biden\n",
      "57108     Hillary Rodham Clinton\n",
      "38376             Samantha Power\n",
      "38714    Eric Stern (politician)\n",
      "Name: name, dtype: object\n"
     ]
    }
   ],
   "source": [
    "distances, indices = knn_model.kneighbors(X_test_vectorized[35817], n_neighbors=5)\n",
    "\n",
    "# 3. Print the indices and distances of the 5 nearest neighbors\n",
    "print(\"Indices of nearest neighbors:\", indices)\n",
    "print(\"Distances of nearest neighbors:\", distances)\n",
    "\n",
    "# 4. If you want the actual text and names corresponding to these indices:\n",
    "nearest_indices = indices[0]  # Flatten the array\n",
    "print(\"Nearest texts:\")\n",
    "print(X.iloc[nearest_indices])\n",
    "print(\"Nearest names:\")\n",
    "print(y.iloc[nearest_indices])"
   ]
  },
  {
   "cell_type": "code",
   "execution_count": null,
   "id": "ed88f95a-f590-48c7-9bda-a312117cf948",
   "metadata": {},
   "outputs": [],
   "source": []
  }
 ],
 "metadata": {
  "kernelspec": {
   "display_name": "Python 3 (ipykernel)",
   "language": "python",
   "name": "python3"
  },
  "language_info": {
   "codemirror_mode": {
    "name": "ipython",
    "version": 3
   },
   "file_extension": ".py",
   "mimetype": "text/x-python",
   "name": "python",
   "nbconvert_exporter": "python",
   "pygments_lexer": "ipython3",
   "version": "3.12.4"
  }
 },
 "nbformat": 4,
 "nbformat_minor": 5
}
